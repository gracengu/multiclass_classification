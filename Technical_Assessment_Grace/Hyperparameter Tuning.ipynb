{
 "cells": [
  {
   "cell_type": "code",
   "execution_count": 88,
   "id": "3ccdfac9",
   "metadata": {
    "ExecuteTime": {
     "end_time": "2021-08-25T09:05:52.627574Z",
     "start_time": "2021-08-25T09:05:52.569574Z"
    }
   },
   "outputs": [],
   "source": [
    "import pandas as pd\n",
    "import numpy as np\n",
    "import seaborn as sns\n",
    "import matplotlib.pyplot as plt\n",
    "import pickle\n",
    "import time\n",
    "\n",
    "import missingno as msno\n",
    "from sklearn.experimental import enable_iterative_imputer\n",
    "from sklearn.impute import IterativeImputer\n",
    "from sklearn.preprocessing import StandardScaler\n",
    "from sklearn.decomposition import PCA\n",
    "from imblearn.over_sampling import SMOTE, SMOTENC\n",
    "\n",
    "import sklearn\n",
    "from sklearn import model_selection\n",
    "from sklearn.feature_selection import SelectKBest, f_classif, chi2\n",
    "from sklearn import svm\n",
    "from sklearn.svm import OneClassSVM\n",
    "from sklearn.preprocessing import OneHotEncoder, label_binarize\n",
    "from sklearn.model_selection import train_test_split, GridSearchCV, RandomizedSearchCV\n",
    "from sklearn.ensemble import RandomForestClassifier\n",
    "from sklearn.model_selection import cross_val_score, RepeatedStratifiedKFold\n",
    "from sklearn.linear_model import LogisticRegression, SGDClassifier\n",
    "from sklearn.multiclass import OneVsRestClassifier\n",
    "from sklearn.metrics import confusion_matrix, accuracy_score, precision_score, recall_score, f1_score, auc, \\\n",
    "    classification_report, multilabel_confusion_matrix, precision_recall_curve, roc_curve, average_precision_score, \\\n",
    "    make_scorer\n",
    "import lightgbm as lgb\n",
    "from lightgbm import LGBMClassifier\n",
    "from sklearn import metrics\n",
    "\n",
    "import keras\n",
    "from keras.models import Sequential\n",
    "from keras.layers import Dense, Activation\n",
    "from keras.wrappers.scikit_learn import KerasClassifier\n",
    "\n",
    "#tuning hyperparameters\n",
    "from bayes_opt import BayesianOptimization\n",
    "from skopt  import BayesSearchCV\n",
    "from hyperopt import hp,fmin, tpe, Trials\n",
    "from hyperopt.pyll.base import scope\n",
    "from functools import partial\n",
    "from skopt import space\n",
    "from skopt import gp_minimize\n",
    "\n",
    "from src.config import Config\n",
    "from src.analysis import Analysis\n",
    "from src.train import Train\n",
    "\n",
    "analysis = Analysis()\n",
    "train = Train()\n",
    "\n",
    "pd.set_option('display.max_rows', 500)"
   ]
  },
  {
   "cell_type": "code",
   "execution_count": 16,
   "id": "c4988355",
   "metadata": {
    "ExecuteTime": {
     "end_time": "2021-08-25T07:06:23.784937Z",
     "start_time": "2021-08-25T07:06:18.938943Z"
    }
   },
   "outputs": [
    {
     "name": "stdout",
     "output_type": "stream",
     "text": [
      "Reading file: ./data/combined_dataset1.csv ...\n",
      "Data import complete for file: ./data/combined_dataset1.csv ...\n",
      "Reading file: ./data/combined_dataset2.csv ...\n",
      "Data import complete for file: ./data/combined_dataset2.csv ...\n",
      "Reading file: ./data/combined_dataset3.csv ...\n",
      "Data import complete for file: ./data/combined_dataset3.csv ...\n",
      "Reading file: ./data/combined_dataset4.csv ...\n",
      "Data import complete for file: ./data/combined_dataset4.csv ...\n"
     ]
    }
   ],
   "source": [
    "combined_df1 = analysis.read_file(\"./data/combined_dataset1.csv\")\n",
    "combined_df2 = analysis.read_file(\"./data/combined_dataset2.csv\")\n",
    "combined_df3 = analysis.read_file(\"./data/combined_dataset3.csv\")\n",
    "combined_df4 = analysis.read_file(\"./data/combined_dataset4.csv\")"
   ]
  },
  {
   "cell_type": "code",
   "execution_count": 68,
   "id": "cb524269",
   "metadata": {
    "ExecuteTime": {
     "end_time": "2021-08-25T08:57:09.510388Z",
     "start_time": "2021-08-25T08:57:08.690855Z"
    }
   },
   "outputs": [
    {
     "data": {
      "text/plain": [
       "<AxesSubplot:ylabel='None'>"
      ]
     },
     "metadata": {},
     "output_type": "display_data"
    },
    {
     "data": {
      "image/png": "[encoded data removed]",
      "text/plain": [
       "<Figure size 432x288 with 1 Axes>"
      ]
     },
     "metadata": {},
     "output_type": "display_data"
    }
   ],
   "source": [
    "start = time.time()\n",
    "feature_list = list(ANOVA_fs4[\"features_selected\"].values) + list(chi2_fs4[\"features_selected\"].values) + [\"target\"]\n",
    "data = combined_df4.loc[:, combined_df4.columns.isin(feature_list)]\n",
    "cols = data.select_dtypes(\"category\").columns\n",
    "data[cols] = data[cols].astype(\"int64\")\n",
    "X4, y4 = data.loc[:, ~data.columns.isin([\"target\"])], data.loc[:, data.columns.isin([\"target\"])]\n",
    "X4, y4 = oversampling(X4, y4, plot=True)"
   ]
  },
  {
   "cell_type": "code",
   "execution_count": 91,
   "id": "d67674fc",
   "metadata": {
    "ExecuteTime": {
     "end_time": "2021-08-25T10:12:41.002470Z",
     "start_time": "2021-08-25T09:09:20.400301Z"
    }
   },
   "outputs": [
    {
     "name": "stdout",
     "output_type": "stream",
     "text": [
      "100%|██████████████████████████████████████████████████████████████████████████████████████████████████████| 15/15 [1:03:20<00:00, 253.36s/trial, best loss: -0.9999496855345912]\n",
      "{'learning_rate': 0.6960720013050441, 'max_depth': 6.0, 'n_estimators': 1181.0, 'num_leaves': 69.0, 'subsample': 0.3646666061385309}\n",
      "Execution time is:  4532.2736120224 seconds\n"
     ]
    }
   ],
   "source": [
    "def optimize(params, x, y):\n",
    "    clf = LGBMClassifier(**params, random_state=123)\n",
    "    kf = model_selection.StratifiedKFold(n_splits=5)\n",
    "    accuracies = []\n",
    "\n",
    "    for idx in kf.split(X=x,y=y):\n",
    "        train_idx,test_idx = idx[0],idx[1]\n",
    "        xtrain = x[train_idx]\n",
    "        ytrain = y[train_idx]\n",
    "        xtest = x[test_idx]\n",
    "        ytest = y[test_idx]\n",
    "        clf.fit(xtrain,ytrain)\n",
    "        preds =  clf.predict(xtest)\n",
    "        fold_acc = metrics.recall_score(ytest,preds, average=\"micro\")\n",
    "        accuracies.append(fold_acc)\n",
    "\n",
    "    return -1.0 * np.mean(accuracies)\n",
    "\n",
    "#defining a set of values as hp for hyperparameters\n",
    "\n",
    "param_space = {\n",
    "                \"max_depth\" : scope.int(hp.quniform(\"max_depth\",3, 20, 1)) ,\n",
    "                \"n_estimators\": scope.int(hp.quniform(\"n_estimators\",100,1500,1)),\n",
    "                'learning_rate': hp.uniform(\"learning_rate\",0.01,1),\n",
    "                'num_leaves': scope.int(hp.quniform('num_leaves', 24, 80, 1)),\n",
    "                'subsample': hp.uniform(\"subsample\", 0.01, 1.0)}\n",
    "                                            \n",
    "#defiing optimization_fuction as partial and calling optimize within it\n",
    "optimization_fuction = partial(optimize, x = np.array(X4), y = np.array(y4)) \n",
    "trials = Trials()\n",
    "\n",
    "#Getting the optimum values for hyperparameters\n",
    "result = fmin(\n",
    "    fn = optimization_fuction,\n",
    "    space = param_space,\n",
    "    algo = tpe.suggest,\n",
    "    max_evals = 15,\n",
    "    trials = trials,\n",
    ")\n",
    "\n",
    "end = time.time()\n",
    "#Printing the best hyperparemeter set\n",
    "print(result)\n",
    "\n",
    "# print Execution time\n",
    "print(\"Execution time is: \", end - start, \"seconds\")"
   ]
  },
  {
   "cell_type": "code",
   "execution_count": 100,
   "id": "35a37d14",
   "metadata": {
    "ExecuteTime": {
     "end_time": "2021-08-25T15:15:33.661752Z",
     "start_time": "2021-08-25T12:36:20.638689Z"
    },
    "scrolled": false
   },
   "outputs": [
    {
     "name": "stdout",
     "output_type": "stream",
     "text": [
      "[LightGBM] [Warning] feature_fraction is set=0.7695055504773101, colsample_bytree=1.0 will be ignored. Current value: feature_fraction=0.7695055504773101                        \n",
      "[LightGBM] [Warning] feature_fraction is set=0.7695055504773101, colsample_bytree=1.0 will be ignored. Current value: feature_fraction=0.7695055504773101                        \n",
      "[LightGBM] [Warning] feature_fraction is set=0.7695055504773101, colsample_bytree=1.0 will be ignored. Current value: feature_fraction=0.7695055504773101                        \n",
      "[LightGBM] [Warning] feature_fraction is set=0.7695055504773101, colsample_bytree=1.0 will be ignored. Current value: feature_fraction=0.7695055504773101                        \n",
      "[LightGBM] [Warning] feature_fraction is set=0.7866052491648541, colsample_bytree=1.0 will be ignored. Current value: feature_fraction=0.7866052491648541                        \n",
      "[LightGBM] [Warning] feature_fraction is set=0.7866052491648541, colsample_bytree=1.0 will be ignored. Current value: feature_fraction=0.7866052491648541                        \n",
      "[LightGBM] [Warning] feature_fraction is set=0.7866052491648541, colsample_bytree=1.0 will be ignored. Current value: feature_fraction=0.7866052491648541                        \n",
      "[LightGBM] [Warning] feature_fraction is set=0.7866052491648541, colsample_bytree=1.0 will be ignored. Current value: feature_fraction=0.7866052491648541                        \n",
      "[LightGBM] [Warning] feature_fraction is set=0.7866052491648541, colsample_bytree=1.0 will be ignored. Current value: feature_fraction=0.7866052491648541                        \n",
      "[LightGBM] [Warning] feature_fraction is set=0.8259327720129872, colsample_bytree=1.0 will be ignored. Current value: feature_fraction=0.8259327720129872                        \n",
      "[LightGBM] [Warning] feature_fraction is set=0.8259327720129872, colsample_bytree=1.0 will be ignored. Current value: feature_fraction=0.8259327720129872                        \n",
      "[LightGBM] [Warning] feature_fraction is set=0.8259327720129872, colsample_bytree=1.0 will be ignored. Current value: feature_fraction=0.8259327720129872                        \n",
      "[LightGBM] [Warning] feature_fraction is set=0.8259327720129872, colsample_bytree=1.0 will be ignored. Current value: feature_fraction=0.8259327720129872                        \n",
      "[LightGBM] [Warning] feature_fraction is set=0.8259327720129872, colsample_bytree=1.0 will be ignored. Current value: feature_fraction=0.8259327720129872                        \n",
      "[LightGBM] [Warning] feature_fraction is set=0.7135459721909083, colsample_bytree=1.0 will be ignored. Current value: feature_fraction=0.7135459721909083                        \n",
      "[LightGBM] [Warning] feature_fraction is set=0.7135459721909083, colsample_bytree=1.0 will be ignored. Current value: feature_fraction=0.7135459721909083                        \n",
      "[LightGBM] [Warning] feature_fraction is set=0.7135459721909083, colsample_bytree=1.0 will be ignored. Current value: feature_fraction=0.7135459721909083                        \n",
      "[LightGBM] [Warning] feature_fraction is set=0.7135459721909083, colsample_bytree=1.0 will be ignored. Current value: feature_fraction=0.7135459721909083                        \n",
      "[LightGBM] [Warning] feature_fraction is set=0.7135459721909083, colsample_bytree=1.0 will be ignored. Current value: feature_fraction=0.7135459721909083                        \n",
      "[LightGBM] [Warning] feature_fraction is set=0.7703512365732728, colsample_bytree=1.0 will be ignored. Current value: feature_fraction=0.7703512365732728                        \n",
      "[LightGBM] [Warning] feature_fraction is set=0.7703512365732728, colsample_bytree=1.0 will be ignored. Current value: feature_fraction=0.7703512365732728                        \n",
      "[LightGBM] [Warning] feature_fraction is set=0.7703512365732728, colsample_bytree=1.0 will be ignored. Current value: feature_fraction=0.7703512365732728                        \n",
      "[LightGBM] [Warning] feature_fraction is set=0.7703512365732728, colsample_bytree=1.0 will be ignored. Current value: feature_fraction=0.7703512365732728                        \n",
      "[LightGBM] [Warning] feature_fraction is set=0.7703512365732728, colsample_bytree=1.0 will be ignored. Current value: feature_fraction=0.7703512365732728                        \n",
      "[LightGBM] [Warning] feature_fraction is set=0.9908815977974277, colsample_bytree=1.0 will be ignored. Current value: feature_fraction=0.9908815977974277                        \n",
      "[LightGBM] [Warning] feature_fraction is set=0.9908815977974277, colsample_bytree=1.0 will be ignored. Current value: feature_fraction=0.9908815977974277                        \n",
      "[LightGBM] [Warning] feature_fraction is set=0.9908815977974277, colsample_bytree=1.0 will be ignored. Current value: feature_fraction=0.9908815977974277                        \n",
      "[LightGBM] [Warning] feature_fraction is set=0.9908815977974277, colsample_bytree=1.0 will be ignored. Current value: feature_fraction=0.9908815977974277                        \n",
      "[LightGBM] [Warning] feature_fraction is set=0.9908815977974277, colsample_bytree=1.0 will be ignored. Current value: feature_fraction=0.9908815977974277                        \n",
      "[LightGBM] [Warning] feature_fraction is set=0.704778853683639, colsample_bytree=1.0 will be ignored. Current value: feature_fraction=0.704778853683639                          \n",
      "[LightGBM] [Warning] feature_fraction is set=0.704778853683639, colsample_bytree=1.0 will be ignored. Current value: feature_fraction=0.704778853683639                          \n",
      "[LightGBM] [Warning] feature_fraction is set=0.704778853683639, colsample_bytree=1.0 will be ignored. Current value: feature_fraction=0.704778853683639                          \n",
      "[LightGBM] [Warning] feature_fraction is set=0.704778853683639, colsample_bytree=1.0 will be ignored. Current value: feature_fraction=0.704778853683639                          \n",
      "[LightGBM] [Warning] feature_fraction is set=0.704778853683639, colsample_bytree=1.0 will be ignored. Current value: feature_fraction=0.704778853683639                          \n",
      "[LightGBM] [Warning] feature_fraction is set=0.8629791078938165, colsample_bytree=1.0 will be ignored. Current value: feature_fraction=0.8629791078938165                        \n",
      "[LightGBM] [Warning] feature_fraction is set=0.8629791078938165, colsample_bytree=1.0 will be ignored. Current value: feature_fraction=0.8629791078938165                        \n",
      "[LightGBM] [Warning] feature_fraction is set=0.8629791078938165, colsample_bytree=1.0 will be ignored. Current value: feature_fraction=0.8629791078938165                        \n",
      "[LightGBM] [Warning] feature_fraction is set=0.8629791078938165, colsample_bytree=1.0 will be ignored. Current value: feature_fraction=0.8629791078938165                        \n",
      "[LightGBM] [Warning] feature_fraction is set=0.8629791078938165, colsample_bytree=1.0 will be ignored. Current value: feature_fraction=0.8629791078938165                        \n",
      "[LightGBM] [Warning] feature_fraction is set=0.6248987877828537, colsample_bytree=1.0 will be ignored. Current value: feature_fraction=0.6248987877828537                        \n",
      "[LightGBM] [Warning] feature_fraction is set=0.6248987877828537, colsample_bytree=1.0 will be ignored. Current value: feature_fraction=0.6248987877828537                        \n",
      "[LightGBM] [Warning] feature_fraction is set=0.6248987877828537, colsample_bytree=1.0 will be ignored. Current value: feature_fraction=0.6248987877828537                        \n",
      "[LightGBM] [Warning] feature_fraction is set=0.6248987877828537, colsample_bytree=1.0 will be ignored. Current value: feature_fraction=0.6248987877828537                        \n",
      "[LightGBM] [Warning] feature_fraction is set=0.6248987877828537, colsample_bytree=1.0 will be ignored. Current value: feature_fraction=0.6248987877828537                        \n",
      "[LightGBM] [Warning] feature_fraction is set=0.9332496184210717, colsample_bytree=1.0 will be ignored. Current value: feature_fraction=0.9332496184210717                        \n",
      "[LightGBM] [Warning] feature_fraction is set=0.9332496184210717, colsample_bytree=1.0 will be ignored. Current value: feature_fraction=0.9332496184210717                        \n"
     ]
    },
    {
     "name": "stdout",
     "output_type": "stream",
     "text": [
      "[LightGBM] [Warning] feature_fraction is set=0.9332496184210717, colsample_bytree=1.0 will be ignored. Current value: feature_fraction=0.9332496184210717                        \n",
      "[LightGBM] [Warning] feature_fraction is set=0.9332496184210717, colsample_bytree=1.0 will be ignored. Current value: feature_fraction=0.9332496184210717                        \n",
      "[LightGBM] [Warning] feature_fraction is set=0.9332496184210717, colsample_bytree=1.0 will be ignored. Current value: feature_fraction=0.9332496184210717                        \n",
      "[LightGBM] [Warning] feature_fraction is set=0.5820998731289534, colsample_bytree=1.0 will be ignored. Current value: feature_fraction=0.5820998731289534                        \n",
      "[LightGBM] [Warning] feature_fraction is set=0.5820998731289534, colsample_bytree=1.0 will be ignored. Current value: feature_fraction=0.5820998731289534                        \n",
      "[LightGBM] [Warning] feature_fraction is set=0.5820998731289534, colsample_bytree=1.0 will be ignored. Current value: feature_fraction=0.5820998731289534                        \n",
      "[LightGBM] [Warning] feature_fraction is set=0.5820998731289534, colsample_bytree=1.0 will be ignored. Current value: feature_fraction=0.5820998731289534                        \n",
      "[LightGBM] [Warning] feature_fraction is set=0.5820998731289534, colsample_bytree=1.0 will be ignored. Current value: feature_fraction=0.5820998731289534                        \n",
      "[LightGBM] [Warning] feature_fraction is set=0.9952539749597995, colsample_bytree=1.0 will be ignored. Current value: feature_fraction=0.9952539749597995                        \n",
      "[LightGBM] [Warning] feature_fraction is set=0.9952539749597995, colsample_bytree=1.0 will be ignored. Current value: feature_fraction=0.9952539749597995                        \n",
      "[LightGBM] [Warning] feature_fraction is set=0.9952539749597995, colsample_bytree=1.0 will be ignored. Current value: feature_fraction=0.9952539749597995                        \n",
      "[LightGBM] [Warning] feature_fraction is set=0.9952539749597995, colsample_bytree=1.0 will be ignored. Current value: feature_fraction=0.9952539749597995                        \n",
      "[LightGBM] [Warning] feature_fraction is set=0.9952539749597995, colsample_bytree=1.0 will be ignored. Current value: feature_fraction=0.9952539749597995                        \n",
      "[LightGBM] [Warning] feature_fraction is set=0.8744363695868775, colsample_bytree=1.0 will be ignored. Current value: feature_fraction=0.8744363695868775                        \n",
      "[LightGBM] [Warning] feature_fraction is set=0.8744363695868775, colsample_bytree=1.0 will be ignored. Current value: feature_fraction=0.8744363695868775                        \n",
      "[LightGBM] [Warning] feature_fraction is set=0.8744363695868775, colsample_bytree=1.0 will be ignored. Current value: feature_fraction=0.8744363695868775                        \n",
      "[LightGBM] [Warning] feature_fraction is set=0.8744363695868775, colsample_bytree=1.0 will be ignored. Current value: feature_fraction=0.8744363695868775                        \n",
      "[LightGBM] [Warning] feature_fraction is set=0.8744363695868775, colsample_bytree=1.0 will be ignored. Current value: feature_fraction=0.8744363695868775                        \n",
      "[LightGBM] [Warning] feature_fraction is set=0.5288998313027877, colsample_bytree=1.0 will be ignored. Current value: feature_fraction=0.5288998313027877                        \n",
      "[LightGBM] [Warning] feature_fraction is set=0.5288998313027877, colsample_bytree=1.0 will be ignored. Current value: feature_fraction=0.5288998313027877                        \n",
      "[LightGBM] [Warning] feature_fraction is set=0.5288998313027877, colsample_bytree=1.0 will be ignored. Current value: feature_fraction=0.5288998313027877                        \n",
      "[LightGBM] [Warning] feature_fraction is set=0.5288998313027877, colsample_bytree=1.0 will be ignored. Current value: feature_fraction=0.5288998313027877                        \n",
      "[LightGBM] [Warning] feature_fraction is set=0.5288998313027877, colsample_bytree=1.0 will be ignored. Current value: feature_fraction=0.5288998313027877                        \n",
      "[LightGBM] [Warning] feature_fraction is set=0.5089886519973361, colsample_bytree=1.0 will be ignored. Current value: feature_fraction=0.5089886519973361                        \n",
      "[LightGBM] [Warning] feature_fraction is set=0.5089886519973361, colsample_bytree=1.0 will be ignored. Current value: feature_fraction=0.5089886519973361                        \n",
      "[LightGBM] [Warning] feature_fraction is set=0.5089886519973361, colsample_bytree=1.0 will be ignored. Current value: feature_fraction=0.5089886519973361                        \n",
      "[LightGBM] [Warning] feature_fraction is set=0.5089886519973361, colsample_bytree=1.0 will be ignored. Current value: feature_fraction=0.5089886519973361                        \n",
      "[LightGBM] [Warning] feature_fraction is set=0.5089886519973361, colsample_bytree=1.0 will be ignored. Current value: feature_fraction=0.5089886519973361                        \n",
      "100%|█████████████████████████████████| 15/15 [2:39:12<00:00, 636.80s/trial, best loss: -0.9999748427672955]\n",
      "{'boosting_type': 1, 'feature_fraction': 0.7135459721909083, 'lambda_l2_positive': 0.059183366388922465, 'learning_rate': 0.7397739553682801, 'max_depth': 6.0, 'n_estimators': 1357.0, 'num_leaves': 60.0, 'reg_alpha': 0, 'reg_lambda': 1, 'subsample': 0.660648484365122, 'subsample_for_bin': 120000.0}\n",
      "Execution time is:  22704.87589621544 seconds\n"
     ]
    }
   ],
   "source": [
    "def optimize(params, x, y):\n",
    "    clf = LGBMClassifier(**params, random_state=123)\n",
    "    kf = model_selection.StratifiedKFold(n_splits=5)\n",
    "    accuracies = []\n",
    "\n",
    "    for idx in kf.split(X=x,y=y):\n",
    "        train_idx,test_idx = idx[0],idx[1]\n",
    "        xtrain = x[train_idx]\n",
    "        ytrain = y[train_idx]\n",
    "        xtest = x[test_idx]\n",
    "        ytest = y[test_idx]\n",
    "        clf.fit(xtrain,ytrain)\n",
    "        preds =  clf.predict(xtest)\n",
    "        fold_acc = metrics.recall_score(ytest,preds, average=\"macro\")\n",
    "        accuracies.append(fold_acc)\n",
    "\n",
    "    return -1.0 * np.mean(accuracies)\n",
    "\n",
    "#defining a set of values as hp for hyperparameters\n",
    "param_space2 = {'boosting_type': hp.choice('boosting_type',['gbdt','dart','goss']),\n",
    "                'subsample_for_bin': scope.int(hp.quniform('subsample_for_bin', 20000, 300000, 20000)),\n",
    "                'feature_fraction': hp.uniform('feature_fraction', 0.5, 1),\n",
    "                'reg_alpha': hp.choice('reg_alpha', [0, hp.loguniform('lambda_l1_positive', -16, 2)]),\n",
    "                'reg_lambda': hp.choice('reg_lambda', [0, hp.loguniform('lambda_l2_positive', -16, 2)]),\n",
    "                \"max_depth\" : scope.int(hp.quniform(\"max_depth\",3, 20, 1)) ,\n",
    "                \"n_estimators\": scope.int(hp.quniform(\"n_estimators\",100,1500,1)),\n",
    "                'learning_rate': hp.uniform(\"learning_rate\",0.01,1),\n",
    "                'num_leaves': scope.int(hp.quniform('num_leaves', 24, 80, 1)),\n",
    "                'subsample': hp.uniform(\"subsample\", 0.01, 1.0)}\n",
    "                                            \n",
    "#defiing optimization_fuction as partial and calling optimize within it\n",
    "optimization_fuction2 = partial(optimize, x = np.array(X4), y = np.array(y4)) \n",
    "trials2 = Trials()\n",
    "\n",
    "#Getting the optimum values for hyperparameters\n",
    "result2 = fmin(\n",
    "    fn = optimization_fuction2,\n",
    "    space = param_space2,\n",
    "    algo = tpe.suggest,\n",
    "    max_evals = 15,\n",
    "    trials = trials2,\n",
    ")\n",
    "\n",
    "end = time.time()\n",
    "#Printing the best hyperparemeter set\n",
    "print(result2)\n",
    "\n",
    "# print Execution time\n",
    "print(\"Execution time is: \", end - start, \"seconds\")"
   ]
  }
 ],
 "metadata": {
  "kernelspec": {
   "display_name": "python3.7_multiclass",
   "language": "python",
   "name": "python3.7_multiclass"
  },
  "language_info": {
   "codemirror_mode": {
    "name": "ipython",
    "version": 3
   },
   "file_extension": ".py",
   "mimetype": "text/x-python",
   "name": "python",
   "nbconvert_exporter": "python",
   "pygments_lexer": "ipython3",
   "version": "3.7.6"
  },
  "toc": {
   "base_numbering": 1,
   "nav_menu": {},
   "number_sections": true,
   "sideBar": true,
   "skip_h1_title": false,
   "title_cell": "Table of Contents",
   "title_sidebar": "Contents",
   "toc_cell": false,
   "toc_position": {},
   "toc_section_display": true,
   "toc_window_display": false
  }
 },
 "nbformat": 4,
 "nbformat_minor": 5
}
